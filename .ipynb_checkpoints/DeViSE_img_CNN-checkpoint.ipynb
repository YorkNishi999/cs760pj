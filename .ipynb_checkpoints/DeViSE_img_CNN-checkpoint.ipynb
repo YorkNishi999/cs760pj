{
 "cells": [
  {
   "cell_type": "markdown",
   "id": "5a1b13c3",
   "metadata": {},
   "source": [
    "# Module import"
   ]
  },
  {
   "cell_type": "code",
   "execution_count": 31,
   "id": "d6368c41",
   "metadata": {},
   "outputs": [],
   "source": [
    "import os\n",
    "import torch\n",
    "import torchvision\n",
    "import tarfile\n",
    "from torchvision.datasets.utils import download_url\n",
    "from torch.utils.data import random_split\n",
    "import torch.utils.data as data\n",
    "from torchvision.datasets import ImageFolder\n",
    "from torchvision.transforms import ToTensor\n",
    "import matplotlib\n",
    "import matplotlib.pyplot as plt\n",
    "from PIL import Image\n",
    "%matplotlib inline\n",
    "matplotlib.rcParams['figure.facecolor'] = '#ffffff'\n",
    "\n"
   ]
  },
  {
   "cell_type": "markdown",
   "id": "0050b4c6",
   "metadata": {},
   "source": [
    "# Dataset implementation and import\n"
   ]
  },
  {
   "cell_type": "code",
   "execution_count": 2,
   "id": "e2d36c3c",
   "metadata": {},
   "outputs": [],
   "source": [
    "# define directory path\n",
    "data_dir_path = '/home/yohei/project/cs760/tiny-imagenet-200'"
   ]
  },
  {
   "cell_type": "code",
   "execution_count": 5,
   "id": "05fa809a",
   "metadata": {},
   "outputs": [],
   "source": [
    "# data formatting (only one time run at the beginning)\n",
    "def format_val():\n",
    "    val_dir = data_dir_path + '/val'\n",
    "    print(\"Formatting: {}\".format(val_dir))\n",
    "    val_annotations = \"{}/val_annotations.txt\".format(val_dir)\n",
    "    val_dict = {}\n",
    "    with open(val_annotations, 'r') as f:\n",
    "        for line in f:\n",
    "            line = line.strip().split()\n",
    "            assert(len(line) == 6)\n",
    "            wnind = line[1]\n",
    "            img_name = line[0]\n",
    "            boxes = '\\t'.join(line[2:])\n",
    "            if wnind not in val_dict:\n",
    "                val_dict[wnind] = []\n",
    "            entries = val_dict[wnind]\n",
    "            entries.append((img_name, boxes))\n",
    "    assert(len(val_dict) == 200)\n",
    "    for wnind, entries in val_dict.items():\n",
    "        val_wnind_dir = \"{}/{}\".format(val_dir, wnind)\n",
    "        val_images_dir = \"{}/images\".format(val_dir)\n",
    "        val_wnind_images_dir = \"{}/images\".format(val_wnind_dir)\n",
    "        os.mkdir(val_wnind_dir)\n",
    "        os.mkdir(val_wnind_images_dir)\n",
    "        wnind_boxes = \"{}/{}_boxes.txt\".format(val_wnind_dir, wnind)\n",
    "        f = open(wnind_boxes, \"w\")\n",
    "        for img_name, box in entries:\n",
    "            source = \"{}/{}\".format(val_images_dir, img_name)\n",
    "            dst = \"{}/{}\".format(val_wnind_images_dir, img_name)\n",
    "            os.system(\"cp {} {}\".format(source, dst))\n",
    "            f.write(img_name+'\\\\'+box+'\\\\'+'n')\n",
    "        f.close()\n",
    "    # os.system(\"rm -rf %s\" % val_images_dir)\n",
    "    #print(\"Cleaning up: %s\" % val_images_dir)\n",
    "    print(\"Formatting val done\")"
   ]
  },
  {
   "cell_type": "code",
   "execution_count": 6,
   "id": "3991e7b3",
   "metadata": {},
   "outputs": [],
   "source": [
    "# create dataset object\n",
    "train_dataset = ImageFolder(data_dir_path + '/train')"
   ]
  },
  {
   "cell_type": "code",
   "execution_count": 7,
   "id": "d9890b78",
   "metadata": {
    "scrolled": true
   },
   "outputs": [
    {
     "name": "stdout",
     "output_type": "stream",
     "text": [
      "82115\n"
     ]
    }
   ],
   "source": [
    "# Texting label (only one time run at the beginning)\n",
    "d = {}\n",
    "\n",
    "f = open(data_dir_path+'/words.txt','r') \n",
    "while(1):\n",
    "    try:\n",
    "        key, val = f.readline().split(\"\\t\")\n",
    "        d[key] = val[:-1]\n",
    "    except Exception:\n",
    "        break\n",
    "\n",
    "print(len(d))\n",
    "\n",
    "aa = train_dataset.classes\n",
    "for i in range(len(aa)):\n",
    "    train_dataset.classes[i] = d[aa[i]]"
   ]
  },
  {
   "cell_type": "code",
   "execution_count": null,
   "id": "dd2e1f94",
   "metadata": {},
   "outputs": [],
   "source": [
    "# Check some pictures"
   ]
  },
  {
   "cell_type": "code",
   "execution_count": 38,
   "id": "8abc14ed",
   "metadata": {},
   "outputs": [],
   "source": [
    "def show_example(img, label):\n",
    "    print('Label: ', train_dataset.classes[label], \"(\"+str(label)+\")\")\n",
    "    plt.imshow(img)"
   ]
  },
  {
   "cell_type": "code",
   "execution_count": 42,
   "id": "035a8c80",
   "metadata": {},
   "outputs": [
    {
     "name": "stdout",
     "output_type": "stream",
     "text": [
      "Label:  stopwatch, stop watch (155)\n"
     ]
    },
    {
     "data": {
      "image/png": "[encoded data removed]",
      "text/plain": [
       "<Figure size 432x288 with 1 Axes>"
      ]
     },
     "metadata": {},
     "output_type": "display_data"
    }
   ],
   "source": [
    "show_example(*train_dataset[77999])"
   ]
  },
  {
   "cell_type": "code",
   "execution_count": 22,
   "id": "de8d4d53",
   "metadata": {},
   "outputs": [],
   "source": [
    "train_dataloader = data.DataLoader(\n",
    "    train_dataset, batch_size=16, shuffle=True,\n",
    "    num_workers=2, drop_last=True\n",
    ")"
   ]
  },
  {
   "cell_type": "code",
   "execution_count": null,
   "id": "60834efa",
   "metadata": {},
   "outputs": [],
   "source": [
    "train_dataloader"
   ]
  },
  {
   "cell_type": "code",
   "execution_count": null,
   "id": "4b644cb7",
   "metadata": {},
   "outputs": [],
   "source": [
    "images, labels = next(iter(train_dataloader))"
   ]
  },
  {
   "cell_type": "code",
   "execution_count": null,
   "id": "3e61fb3c",
   "metadata": {},
   "outputs": [],
   "source": [
    "len(images)"
   ]
  },
  {
   "cell_type": "code",
   "execution_count": null,
   "id": "8ed1e493",
   "metadata": {},
   "outputs": [],
   "source": []
  },
  {
   "cell_type": "code",
   "execution_count": null,
   "id": "7a20f762",
   "metadata": {},
   "outputs": [],
   "source": []
  },
  {
   "cell_type": "markdown",
   "id": "8182f80c",
   "metadata": {},
   "source": [
    "# Training"
   ]
  },
  {
   "cell_type": "code",
   "execution_count": null,
   "id": "d2eae836",
   "metadata": {},
   "outputs": [],
   "source": []
  }
 ],
 "metadata": {
  "kernelspec": {
   "display_name": "Python 3 (ipykernel)",
   "language": "python",
   "name": "python3"
  },
  "language_info": {
   "codemirror_mode": {
    "name": "ipython",
    "version": 3
   },
   "file_extension": ".py",
   "mimetype": "text/x-python",
   "name": "python",
   "nbconvert_exporter": "python",
   "pygments_lexer": "ipython3",
   "version": "3.7.10"
  }
 },
 "nbformat": 4,
 "nbformat_minor": 5
}
