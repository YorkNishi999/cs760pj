{
 "cells": [
  {
   "cell_type": "markdown",
   "id": "5a1b13c3",
   "metadata": {},
   "source": [
    "# Module import"
   ]
  },
  {
   "cell_type": "markdown",
   "id": "070f43c4",
   "metadata": {},
   "source": [
    "# Things to do to improve the accuracy\n",
    "### 2021/10/13\n",
    "- Regularization of data?\n",
    "- add more layer?\n",
    "- amend 'fit' function?\n"
   ]
  },
  {
   "cell_type": "code",
   "execution_count": 1,
   "id": "d6368c41",
   "metadata": {},
   "outputs": [],
   "source": [
    "import os\n",
    "import torch\n",
    "import torchvision\n",
    "import tarfile\n",
    "from torchvision.datasets.utils import download_url\n",
    "from torch.utils.data import random_split\n",
    "import torch.utils.data as data\n",
    "from torch.utils.data.dataloader import DataLoader\n",
    "from torchvision.datasets import ImageFolder\n",
    "from torchvision.transforms import ToTensor\n",
    "import matplotlib\n",
    "import matplotlib.pyplot as plt\n",
    "from PIL import Image\n",
    "%matplotlib inline\n",
    "matplotlib.rcParams['figure.facecolor'] = '#ffffff'\n",
    "\n",
    "import torch.nn as nn\n",
    "import torch.nn.functional as F\n"
   ]
  },
  {
   "cell_type": "markdown",
   "id": "0050b4c6",
   "metadata": {},
   "source": [
    "# Dataset implementation and import\n"
   ]
  },
  {
   "cell_type": "code",
   "execution_count": 2,
   "id": "e2d36c3c",
   "metadata": {},
   "outputs": [],
   "source": [
    "# define directory path\n",
    "data_dir_path = '/home/yohei/project/cs760/tiny-imagenet-200'"
   ]
  },
  {
   "cell_type": "code",
   "execution_count": 3,
   "id": "05fa809a",
   "metadata": {},
   "outputs": [],
   "source": [
    "# data formatting (only one time run at the beginning)\n",
    "def format_val():\n",
    "    val_dir = data_dir_path + '/val'\n",
    "    print(\"Formatting: {}\".format(val_dir))\n",
    "    val_annotations = \"{}/val_annotations.txt\".format(val_dir)\n",
    "    val_dict = {}\n",
    "    with open(val_annotations, 'r') as f:\n",
    "        for line in f:\n",
    "            line = line.strip().split()\n",
    "            assert(len(line) == 6)\n",
    "            wnind = line[1]\n",
    "            img_name = line[0]\n",
    "            boxes = '\\t'.join(line[2:])\n",
    "            if wnind not in val_dict:\n",
    "                val_dict[wnind] = []\n",
    "            entries = val_dict[wnind]\n",
    "            entries.append((img_name, boxes))\n",
    "    assert(len(val_dict) == 200)\n",
    "    for wnind, entries in val_dict.items():\n",
    "        val_wnind_dir = \"{}/{}\".format(val_dir, wnind)\n",
    "        val_images_dir = \"{}/images\".format(val_dir)\n",
    "        val_wnind_images_dir = \"{}/images\".format(val_wnind_dir)\n",
    "        os.mkdir(val_wnind_dir)\n",
    "        os.mkdir(val_wnind_images_dir)\n",
    "        wnind_boxes = \"{}/{}_boxes.txt\".format(val_wnind_dir, wnind)\n",
    "        f = open(wnind_boxes, \"w\")\n",
    "        for img_name, box in entries:\n",
    "            source = \"{}/{}\".format(val_images_dir, img_name)\n",
    "            dst = \"{}/{}\".format(val_wnind_images_dir, img_name)\n",
    "            os.system(\"cp {} {}\".format(source, dst))\n",
    "            f.write(img_name+'\\\\'+box+'\\\\'+'n')\n",
    "        f.close()\n",
    "    # os.system(\"rm -rf %s\" % val_images_dir)\n",
    "    #print(\"Cleaning up: %s\" % val_images_dir)\n",
    "    print(\"Formatting val done\")"
   ]
  },
  {
   "cell_type": "code",
   "execution_count": 4,
   "id": "3991e7b3",
   "metadata": {},
   "outputs": [],
   "source": [
    "# create dataset object\n",
    "train_dataset = ImageFolder(data_dir_path + '/train', transform=ToTensor())"
   ]
  },
  {
   "cell_type": "code",
   "execution_count": 5,
   "id": "d9890b78",
   "metadata": {
    "scrolled": true
   },
   "outputs": [
    {
     "name": "stdout",
     "output_type": "stream",
     "text": [
      "82115\n"
     ]
    }
   ],
   "source": [
    "# Texting label (only one time run at the beginning)\n",
    "d = {}\n",
    "\n",
    "f = open(data_dir_path+'/words.txt','r') \n",
    "while(1):\n",
    "    try:\n",
    "        key, val = f.readline().split(\"\\t\")\n",
    "        d[key] = val[:-1]\n",
    "    except Exception:\n",
    "        break\n",
    "\n",
    "print(len(d))\n",
    "\n",
    "aa = train_dataset.classes\n",
    "for i in range(len(aa)):\n",
    "    train_dataset.classes[i] = d[aa[i]]"
   ]
  },
  {
   "cell_type": "code",
   "execution_count": 6,
   "id": "0789b240",
   "metadata": {},
   "outputs": [],
   "source": [
    "# Check some pictures"
   ]
  },
  {
   "cell_type": "code",
   "execution_count": 7,
   "id": "8abc14ed",
   "metadata": {},
   "outputs": [],
   "source": [
    "def show_example(img, label):\n",
    "    print('Label: ', train_dataset.classes[label], \"(\"+str(label)+\")\")\n",
    "    plt.imshow(img.permute(1, 2, 0))"
   ]
  },
  {
   "cell_type": "code",
   "execution_count": 8,
   "id": "0e5c4da4",
   "metadata": {},
   "outputs": [
    {
     "name": "stdout",
     "output_type": "stream",
     "text": [
      "Label:  jinrikisha, ricksha, rickshaw (111)\n"
     ]
    },
    {
     "data": {
      "image/png": "[encoded data removed]",
      "text/plain": [
       "<Figure size 432x288 with 1 Axes>"
      ]
     },
     "metadata": {},
     "output_type": "display_data"
    }
   ],
   "source": [
    "show_example(*train_dataset[55555])\n"
   ]
  },
  {
   "cell_type": "markdown",
   "id": "e695f3ba",
   "metadata": {},
   "source": [
    "# Training and validation data"
   ]
  },
  {
   "cell_type": "code",
   "execution_count": 9,
   "id": "85b07c37",
   "metadata": {},
   "outputs": [
    {
     "data": {
      "text/plain": [
       "(90000, 10000)"
      ]
     },
     "execution_count": 9,
     "metadata": {},
     "output_type": "execute_result"
    }
   ],
   "source": [
    "random_seed = 4\n",
    "torch.manual_seed(random_seed);\n",
    "\n",
    "val_size = 10000\n",
    "train_size = len(train_dataset) - val_size\n",
    "\n",
    "train_ds, val_ds = random_split(train_dataset, [train_size, val_size])\n",
    "len(train_ds), len(val_ds)\n"
   ]
  },
  {
   "cell_type": "code",
   "execution_count": 10,
   "id": "2c3ad90a",
   "metadata": {},
   "outputs": [],
   "source": [
    "batch_size = 25"
   ]
  },
  {
   "cell_type": "code",
   "execution_count": 11,
   "id": "de8d4d53",
   "metadata": {},
   "outputs": [
    {
     "data": {
      "text/plain": [
       "200"
      ]
     },
     "execution_count": 11,
     "metadata": {},
     "output_type": "execute_result"
    }
   ],
   "source": [
    "# 念の為保存しとく↓\n",
    "# train_dataloader = data.DataLoader(\n",
    "#     train_dataset, batch_size=16, shuffle=True,\n",
    "#     num_workers=2, drop_last=True\n",
    "# )\n",
    "\n",
    "len(train_dataset.classes)"
   ]
  },
  {
   "cell_type": "code",
   "execution_count": 12,
   "id": "60834efa",
   "metadata": {},
   "outputs": [],
   "source": [
    "# train_dl = DataLoader(train_ds, batch_size, shuffle=True, num_workers=4, pin_memory=True)\n",
    "# val_dl = DataLoader(val_ds, batch_size, num_workers=4, pin_memory=True)\n",
    "\n",
    "train_dl = DataLoader(train_ds, batch_size, shuffle=True)\n",
    "val_dl = DataLoader(val_ds, batch_size)"
   ]
  },
  {
   "cell_type": "code",
   "execution_count": 13,
   "id": "222b2f2d",
   "metadata": {},
   "outputs": [
    {
     "data": {
      "text/plain": [
       "<torch.utils.data.dataloader.DataLoader at 0x7fccfde4c2d0>"
      ]
     },
     "execution_count": 13,
     "metadata": {},
     "output_type": "execute_result"
    }
   ],
   "source": [
    "train_dl"
   ]
  },
  {
   "cell_type": "code",
   "execution_count": 14,
   "id": "4b644cb7",
   "metadata": {},
   "outputs": [],
   "source": [
    "from torchvision.utils import make_grid\n",
    "\n",
    "def show_batch(dl):\n",
    "    for images, labels in dl:\n",
    "        fig, ax = plt.subplots(figsize=(12, 6))\n",
    "        ax.set_xticks([]); ax.set_yticks([])\n",
    "        ax.imshow(make_grid(images, nrow=16).permute(1, 2, 0))\n",
    "        break"
   ]
  },
  {
   "cell_type": "code",
   "execution_count": 15,
   "id": "8ed1e493",
   "metadata": {},
   "outputs": [
    {
     "data": {
      "image/png": "[encoded data removed]",
      "text/plain": [
       "<Figure size 864x432 with 1 Axes>"
      ]
     },
     "metadata": {},
     "output_type": "display_data"
    }
   ],
   "source": [
    "show_batch(train_dl)"
   ]
  },
  {
   "cell_type": "markdown",
   "id": "8182f80c",
   "metadata": {},
   "source": [
    "# Define the model"
   ]
  },
  {
   "cell_type": "code",
   "execution_count": 16,
   "id": "d2eae836",
   "metadata": {},
   "outputs": [],
   "source": [
    "def apply_kernel(image, kernel):\n",
    "    ri, ci = image.shape       # image dimensions\n",
    "    rk, ck = kernel.shape      # kernel dimensions\n",
    "    ro, co = ri-rk+1, ci-ck+1  # output dimensions\n",
    "    output = torch.zeros([ro, co])\n",
    "    for i in range(ro): \n",
    "        for j in range(co):\n",
    "            output[i,j] = torch.sum(image[i:i+rk,j:j+ck] * kernel)\n",
    "    return output\n",
    "\n"
   ]
  },
  {
   "cell_type": "code",
   "execution_count": 17,
   "id": "0cb1a2db",
   "metadata": {},
   "outputs": [
    {
     "data": {
      "text/plain": [
       "tensor([[12., 12., 17.],\n",
       "        [10., 17., 19.],\n",
       "        [ 9.,  6., 14.]])"
      ]
     },
     "execution_count": 17,
     "metadata": {},
     "output_type": "execute_result"
    }
   ],
   "source": [
    "sample_image = torch.tensor([\n",
    "    [3, 3, 2, 1, 0], \n",
    "    [0, 0, 1, 3, 1], \n",
    "    [3, 1, 2, 2, 3], \n",
    "    [2, 0, 0, 2, 2], \n",
    "    [2, 0, 0, 0, 1]\n",
    "], dtype=torch.float32)\n",
    "\n",
    "sample_kernel = torch.tensor([\n",
    "    [0, 1, 2], \n",
    "    [2, 2, 0], \n",
    "    [0, 1, 2]\n",
    "], dtype=torch.float32)\n",
    "\n",
    "apply_kernel(sample_image, sample_kernel)"
   ]
  },
  {
   "cell_type": "code",
   "execution_count": 18,
   "id": "2f2ad574",
   "metadata": {},
   "outputs": [],
   "source": [
    "simple_model = nn.Sequential(\n",
    "    nn.Conv2d(3, 16, kernel_size=5, stride=1, padding=2),\n",
    "    nn.ReLU(),\n",
    "    nn.MaxPool2d(2, 2), # output: 16, 32, 32\n",
    "\n",
    "    nn.Conv2d(16, 16, kernel_size=3, stride=1, padding=1),\n",
    "    nn.ReLU(),\n",
    "    nn.MaxPool2d(2, 2), # output: 16, 16, 16\n",
    "\n",
    "#     nn.Conv2d(128, 256, kernel_size=3, stride=1, padding=1),\n",
    "#     nn.Conv2d(256, 256, kernel_size=3, stride=1, padding=1),\n",
    "#     nn.MaxPool2d(2, 2), # output: 256 x 8 x 8\n",
    "    \n",
    "    nn.Flatten(), # 16 x 4096\n",
    "    nn.Linear(4096, 200),\n",
    "#     nn.Linear(1024, 512),\n",
    "#     nn.Linear(512, 10),\n",
    "    \n",
    "\n",
    ")\n",
    "\n",
    "            \n",
    "#             nn.Conv2d(3, 16, kernel_size=5, stride=1, padding=1),\n",
    "#             nn.ReLU(),\n",
    "#             nn.Conv2d(64, 64, kernel_size=3, stride=1, padding=1),\n",
    "#             nn.ReLU(),\n",
    "#             nn.MaxPool2d((2, 2)), # output: 64 x 32 x 32 = 65536\n",
    "\n",
    "#             nn.Conv2d(64, 128, kernel_size=3, stride=1, padding=1),\n",
    "#             nn.ReLU(),\n",
    "#             nn.Conv2d(128, 128, kernel_size=3, stride=1, padding=1),\n",
    "#             nn.ReLU(),\n",
    "#             nn.MaxPool2d((2, 2)), # output: 128 x 16 x 16 = 32768\n",
    "\n",
    "#             nn.Conv2d(128, 256, kernel_size=3, stride=1, padding=1),\n",
    "#             nn.ReLU(),\n",
    "#             nn.Conv2d(256, 256, kernel_size=3, stride=1, padding=1),\n",
    "#             nn.ReLU(),\n",
    "#             nn.MaxPool2d(2, 2), # output: 256 x 8 x 8 = 16384\n",
    " \n",
    "#             nn.Flatten(),\n",
    "#             nn.Linear(16384, 1024),\n",
    "#             nn.ReLU(),\n",
    "#             nn.Linear(1024, 512),\n",
    "#             nn.ReLU(),\n",
    "#             nn.Linear(512, 200) # 2番目のargs = # of classes"
   ]
  },
  {
   "cell_type": "code",
   "execution_count": 19,
   "id": "9cf66e47",
   "metadata": {},
   "outputs": [
    {
     "name": "stdout",
     "output_type": "stream",
     "text": [
      "label: tensor([153, 158,  98,  29, 106,  73, 142, 172, 128, 180, 141,  66, 108,  35,\n",
      "         80,  61,  80,  78,  17,  24,  81, 132,  32,  71,  80])\n",
      "images.shape: torch.Size([25, 3, 64, 64])\n",
      "out.shape: torch.Size([25, 200])\n",
      "25\n"
     ]
    }
   ],
   "source": [
    "for images, labels in train_dl:\n",
    "    print('label:', labels)\n",
    "    print('images.shape:', images.shape)\n",
    "    out = simple_model(images)\n",
    "    print('out.shape:', out.shape)\n",
    "    break\n",
    "    \n",
    "# out = nn.Flatten()\n",
    "\n",
    "print(len(out))"
   ]
  },
  {
   "cell_type": "code",
   "execution_count": 20,
   "id": "0dafd5a5",
   "metadata": {},
   "outputs": [],
   "source": [
    "class ImageClassificationBase(nn.Module):\n",
    "    def training_step(self, batch):\n",
    "        images, labels = batch\n",
    "#         print(\"train label: \", labels)\n",
    "        out = self(images)                  # Generate predictions\n",
    "        loss = F.cross_entropy(out, labels) # Calculate loss\n",
    "        return loss\n",
    "    \n",
    "    def validation_step(self, batch):\n",
    "        images, labels = batch \n",
    "#         print(\"val label: \", labels)\n",
    "        out = self(images)                    # Generate predictions\n",
    "        loss = F.cross_entropy(out, labels)   # Calculate loss\n",
    "        acc = accuracy(out, labels)           # Calculate accuracy\n",
    "        return {'val_loss': loss.detach(), 'val_acc': acc}\n",
    "        \n",
    "    def validation_epoch_end(self, outputs):\n",
    "        batch_losses = [x['val_loss'] for x in outputs]\n",
    "        epoch_loss = torch.stack(batch_losses).mean()   # Combine losses\n",
    "        batch_accs = [x['val_acc'] for x in outputs]\n",
    "        epoch_acc = torch.stack(batch_accs).mean()      # Combine accuracies\n",
    "        return {'val_loss': epoch_loss.item(), 'val_acc': epoch_acc.item()}\n",
    "    \n",
    "    def epoch_end(self, epoch, result):\n",
    "        print(\"Epoch [{}], train_loss: {:.4f}, val_loss: {:.4f}, val_acc: {:.4f}\".format(\n",
    "            epoch, result['train_loss'], result['val_loss'], result['val_acc']))\n",
    "        \n",
    "def accuracy(outputs, labels):\n",
    "    _, preds = torch.max(outputs, dim=1)\n",
    "    return torch.tensor(torch.sum(preds == labels).item() / len(preds))"
   ]
  },
  {
   "cell_type": "code",
   "execution_count": 21,
   "id": "29cbdeae",
   "metadata": {},
   "outputs": [],
   "source": [
    "class TinyImagenetCnnModel(ImageClassificationBase):\n",
    "    def __init__(self):\n",
    "        super().__init__()\n",
    "        self.network = nn.Sequential(\n",
    "            # in: 3 x 64 x 64\n",
    "                nn.Conv2d(3, 16, kernel_size=5, stride=1, padding=2),\n",
    "                nn.ReLU(),\n",
    "                nn.MaxPool2d(2, 2), # output: 16, 32, 32\n",
    "\n",
    "                nn.Conv2d(16, 16, kernel_size=3, stride=1, padding=1),\n",
    "                nn.ReLU(),\n",
    "                nn.MaxPool2d(2, 2), # output: 16, 16, 16\n",
    "\n",
    "            #     nn.Conv2d(128, 256, kernel_size=3, stride=1, padding=1),\n",
    "            #     nn.Conv2d(256, 256, kernel_size=3, stride=1, padding=1),\n",
    "            #     nn.MaxPool2d(2, 2), # output: 256 x 8 x 8\n",
    "\n",
    "                nn.Flatten(), # 16 x 4096\n",
    "                nn.Linear(4096, 200),\n",
    "            #     nn.Linear(1024, 512),\n",
    "            #     nn.Linear(512, 10),\n",
    "\n",
    "        )\n",
    "        \n",
    "    def forward(self, xb):\n",
    "        return self.network(xb)"
   ]
  },
  {
   "cell_type": "code",
   "execution_count": 22,
   "id": "5857101f",
   "metadata": {},
   "outputs": [
    {
     "data": {
      "text/plain": [
       "TinyImagenetCnnModel(\n",
       "  (network): Sequential(\n",
       "    (0): Conv2d(3, 16, kernel_size=(5, 5), stride=(1, 1), padding=(2, 2))\n",
       "    (1): ReLU()\n",
       "    (2): MaxPool2d(kernel_size=2, stride=2, padding=0, dilation=1, ceil_mode=False)\n",
       "    (3): Conv2d(16, 16, kernel_size=(3, 3), stride=(1, 1), padding=(1, 1))\n",
       "    (4): ReLU()\n",
       "    (5): MaxPool2d(kernel_size=2, stride=2, padding=0, dilation=1, ceil_mode=False)\n",
       "    (6): Flatten(start_dim=1, end_dim=-1)\n",
       "    (7): Linear(in_features=4096, out_features=200, bias=True)\n",
       "  )\n",
       ")"
      ]
     },
     "execution_count": 22,
     "metadata": {},
     "output_type": "execute_result"
    }
   ],
   "source": [
    "model = TinyImagenetCnnModel()\n",
    "model"
   ]
  },
  {
   "cell_type": "code",
   "execution_count": 23,
   "id": "b44aaf49",
   "metadata": {},
   "outputs": [
    {
     "name": "stdout",
     "output_type": "stream",
     "text": [
      "images.shape: torch.Size([25, 3, 64, 64])\n",
      "out.shape: torch.Size([25, 200])\n",
      "out[0]: tensor([-6.7110e-02, -9.4599e-02, -6.9694e-02, -4.2502e-02, -8.8235e-02,\n",
      "        -3.0132e-02, -5.1760e-02, -4.7450e-02,  1.2784e-01,  1.8208e-01,\n",
      "         8.8807e-02,  1.7009e-01, -4.4865e-02, -5.9905e-02,  7.7420e-02,\n",
      "         1.1555e-01, -3.0552e-02,  1.1413e-01, -6.6481e-02, -6.8973e-02,\n",
      "         1.0130e-01,  8.1137e-02,  4.5274e-02,  8.4028e-02, -4.2687e-04,\n",
      "        -6.8395e-02, -4.3206e-02,  1.0226e-01, -2.6579e-02,  6.8872e-02,\n",
      "         2.7581e-02, -1.0768e-02,  5.9357e-02, -1.3659e-01,  1.0195e-01,\n",
      "        -5.3144e-02,  3.9848e-02, -4.5350e-02, -7.9867e-02, -3.2630e-03,\n",
      "         7.2108e-02,  5.2579e-04,  2.4784e-01, -2.4301e-02, -6.9032e-02,\n",
      "        -5.6039e-02, -6.8954e-04,  8.8405e-02, -2.1024e-02, -3.5891e-02,\n",
      "         6.9259e-02,  1.2864e-01, -6.9735e-02, -5.9847e-02,  7.2589e-02,\n",
      "        -1.2964e-01,  8.1175e-02, -5.9535e-02,  1.1251e-02, -1.0305e-01,\n",
      "         1.0788e-01, -1.3837e-01, -3.5651e-02, -8.2336e-02, -7.8232e-02,\n",
      "        -1.5335e-01,  1.7856e-01, -1.4280e-02, -2.8464e-02, -7.6589e-03,\n",
      "        -8.6287e-02, -1.3147e-02, -4.8469e-02,  4.9297e-02, -9.1467e-02,\n",
      "        -6.1546e-02, -1.8389e-02, -2.1615e-02, -1.2875e-01, -1.1335e-01,\n",
      "         9.1174e-03, -1.0038e-02,  8.6909e-03, -3.3155e-02, -6.5255e-03,\n",
      "        -1.3594e-02,  1.7855e-02,  1.0814e-02, -2.8281e-02, -1.2579e-01,\n",
      "         8.1854e-02, -2.4876e-03,  1.3278e-01, -6.0320e-02, -4.1659e-02,\n",
      "         4.2595e-02,  2.6838e-02, -9.5138e-02, -1.2808e-01, -1.1949e-01,\n",
      "         7.6798e-02, -2.6517e-02,  1.1116e-03, -4.2710e-02,  6.4845e-02,\n",
      "        -9.1474e-02,  2.0458e-02,  8.6289e-04,  1.3410e-02,  4.6833e-02,\n",
      "         2.8899e-02,  7.7825e-03,  2.3488e-02, -1.9479e-02, -2.5305e-02,\n",
      "        -4.2002e-03, -5.7830e-02,  3.4385e-02,  3.2344e-02, -2.1067e-02,\n",
      "        -3.0229e-02, -5.1050e-02, -2.4177e-03, -1.3993e-01,  5.1848e-02,\n",
      "        -1.5943e-01,  1.4855e-01, -1.0682e-01,  3.8727e-03,  3.0782e-02,\n",
      "         1.7100e-02,  1.0281e-01, -2.1360e-02,  5.5590e-02,  7.1884e-02,\n",
      "         1.8379e-02, -4.7442e-02,  8.9763e-02, -9.3534e-03, -1.8137e-01,\n",
      "        -8.6265e-02,  8.1422e-02, -2.5182e-02,  6.3769e-02, -1.7721e-01,\n",
      "         1.1006e-01,  8.6136e-02,  1.7372e-01,  8.7148e-02, -4.8212e-02,\n",
      "        -6.5098e-02, -3.9033e-02, -1.1362e-01, -5.2207e-02,  5.5440e-02,\n",
      "         1.4824e-01, -9.2224e-02,  3.7606e-02, -8.5448e-02, -1.7334e-01,\n",
      "        -1.0378e-01,  2.3195e-02,  6.6582e-02,  3.4369e-02,  2.4881e-02,\n",
      "        -1.4572e-01, -3.0923e-02,  8.4460e-02,  7.9724e-03, -9.6840e-02,\n",
      "        -1.4784e-01,  4.1915e-02, -5.8800e-02,  8.3095e-02,  4.7134e-02,\n",
      "        -2.6796e-05,  8.4125e-02, -1.2528e-01,  8.2578e-02,  9.9251e-02,\n",
      "        -8.7890e-02,  1.3938e-01,  4.2639e-02,  1.4533e-02,  1.8849e-01,\n",
      "         1.1597e-01,  2.3140e-02,  5.1794e-02,  2.6219e-02,  6.6716e-02,\n",
      "        -2.9361e-01,  1.4800e-02,  8.2270e-02,  9.3613e-03, -8.0492e-02,\n",
      "        -9.4320e-02, -3.1192e-02,  3.0308e-01, -6.0065e-02,  3.5600e-02],\n",
      "       grad_fn=<SelectBackward>)\n"
     ]
    }
   ],
   "source": [
    "for images, labels in train_dl:\n",
    "    print('images.shape:', images.shape)\n",
    "    out = model(images)\n",
    "    print('out.shape:', out.shape)\n",
    "    print('out[0]:', out[0])\n",
    "    break"
   ]
  },
  {
   "cell_type": "code",
   "execution_count": 24,
   "id": "21d022b7",
   "metadata": {},
   "outputs": [],
   "source": [
    "def get_default_device():\n",
    "    \"\"\"Pick GPU if available, else CPU\"\"\"\n",
    "    if torch.cuda.is_available():\n",
    "        return torch.device('cuda')\n",
    "    else:\n",
    "        return torch.device('cpu')\n",
    "    \n",
    "def to_device(data, device):\n",
    "    \"\"\"Move tensor(s) to chosen device\"\"\"\n",
    "    if isinstance(data, (list,tuple)):\n",
    "        return [to_device(x, device) for x in data]\n",
    "    return data.to(device, non_blocking=True)\n",
    "\n",
    "class DeviceDataLoader():\n",
    "    \"\"\"Wrap a dataloader to move data to a device\"\"\"\n",
    "    def __init__(self, dl, device):\n",
    "        self.dl = dl\n",
    "        self.device = device\n",
    "        \n",
    "    def __iter__(self):\n",
    "        \"\"\"Yield a batch of data after moving it to device\"\"\"\n",
    "        for b in self.dl: \n",
    "            yield to_device(b, self.device)\n",
    "\n",
    "    def __len__(self):\n",
    "        \"\"\"Number of batches\"\"\"\n",
    "        return len(self.dl)"
   ]
  },
  {
   "cell_type": "code",
   "execution_count": 25,
   "id": "9410f2ea",
   "metadata": {},
   "outputs": [
    {
     "data": {
      "text/plain": [
       "device(type='cuda')"
      ]
     },
     "execution_count": 25,
     "metadata": {},
     "output_type": "execute_result"
    }
   ],
   "source": [
    "device = get_default_device()\n",
    "# device = torch.device('cpu')\n",
    "device "
   ]
  },
  {
   "cell_type": "code",
   "execution_count": 26,
   "id": "0df24401",
   "metadata": {},
   "outputs": [],
   "source": [
    "train_dl = DeviceDataLoader(train_dl, device)\n",
    "val_dl = DeviceDataLoader(val_dl, device)\n",
    "to_device(model, device);"
   ]
  },
  {
   "cell_type": "code",
   "execution_count": 27,
   "id": "31b03f71",
   "metadata": {},
   "outputs": [],
   "source": [
    "# train_dl_gpu"
   ]
  },
  {
   "cell_type": "code",
   "execution_count": 28,
   "id": "81d90d17",
   "metadata": {},
   "outputs": [],
   "source": [
    "# show_batch(train_dl)"
   ]
  },
  {
   "cell_type": "code",
   "execution_count": 29,
   "id": "e72a6e71",
   "metadata": {},
   "outputs": [
    {
     "data": {
      "text/plain": [
       "<__main__.DeviceDataLoader at 0x7fccfde704d0>"
      ]
     },
     "execution_count": 29,
     "metadata": {},
     "output_type": "execute_result"
    }
   ],
   "source": [
    "train_dl"
   ]
  },
  {
   "cell_type": "markdown",
   "id": "c319f8b7",
   "metadata": {},
   "source": [
    "# Training the model"
   ]
  },
  {
   "cell_type": "code",
   "execution_count": 30,
   "id": "0d0c0e53",
   "metadata": {},
   "outputs": [],
   "source": [
    "# @torch.no_grad()\n",
    "def evaluate(model, val_loader):\n",
    "    model.eval()\n",
    "    outputs = [model.validation_step(batch) for batch in val_loader]\n",
    "#     print('outputs: ', outputs)\n",
    "    return model.validation_epoch_end(outputs)\n",
    "\n",
    "def fit(epochs, lr, model, train_loader, val_loader, opt_func=torch.optim.SGD):\n",
    "    history = []\n",
    "    optimizer = opt_func(model.parameters(), lr)\n",
    "    for epoch in range(epochs):\n",
    "        # Training Phase \n",
    "        model.train()\n",
    "        train_losses = []\n",
    "        for batch in train_loader:\n",
    "            loss = model.training_step(batch)\n",
    "            train_losses.append(loss)\n",
    "            loss.backward()\n",
    "            optimizer.step()\n",
    "            optimizer.zero_grad()\n",
    "        # Validation phase\n",
    "        result = evaluate(model, val_loader)\n",
    "        result['train_loss'] = torch.stack(train_losses).mean().item()\n",
    "        model.epoch_end(epoch, result)\n",
    "        history.append(result)\n",
    "    return history"
   ]
  },
  {
   "cell_type": "code",
   "execution_count": 31,
   "id": "2eb1bf7c",
   "metadata": {},
   "outputs": [],
   "source": [
    "model = to_device(TinyImagenetCnnModel(), device)\n",
    "# model = TinyImagenetCnnModel()"
   ]
  },
  {
   "cell_type": "code",
   "execution_count": 32,
   "id": "6ad00d0d",
   "metadata": {},
   "outputs": [
    {
     "data": {
      "text/plain": [
       "{'val_loss': 5.299391269683838, 'val_acc': 0.004599999636411667}"
      ]
     },
     "execution_count": 32,
     "metadata": {},
     "output_type": "execute_result"
    }
   ],
   "source": [
    "evaluate(model, val_dl)"
   ]
  },
  {
   "cell_type": "code",
   "execution_count": 36,
   "id": "db65516a",
   "metadata": {},
   "outputs": [],
   "source": [
    "num_epochs = 100\n",
    "opt_func = torch.optim.Adam\n",
    "lr = 0.1"
   ]
  },
  {
   "cell_type": "code",
   "execution_count": null,
   "id": "e3e59d6e",
   "metadata": {},
   "outputs": [
    {
     "name": "stdout",
     "output_type": "stream",
     "text": [
      "Epoch [0], train_loss: 5.3695, val_loss: 5.3632, val_acc: 0.0056\n",
      "Epoch [1], train_loss: 5.3694, val_loss: 5.3674, val_acc: 0.0046\n",
      "Epoch [2], train_loss: 5.3686, val_loss: 5.3764, val_acc: 0.0050\n",
      "Epoch [3], train_loss: 5.3687, val_loss: 5.3692, val_acc: 0.0047\n",
      "Epoch [4], train_loss: 5.3687, val_loss: 5.3578, val_acc: 0.0053\n",
      "Epoch [5], train_loss: 5.3697, val_loss: 5.3664, val_acc: 0.0054\n",
      "Epoch [6], train_loss: 5.3695, val_loss: 5.3692, val_acc: 0.0054\n",
      "Epoch [7], train_loss: 5.3700, val_loss: 5.3560, val_acc: 0.0051\n",
      "Epoch [8], train_loss: 5.3693, val_loss: 5.3619, val_acc: 0.0042\n",
      "Epoch [9], train_loss: 5.3688, val_loss: 5.3573, val_acc: 0.0049\n",
      "Epoch [10], train_loss: 5.3697, val_loss: 5.3667, val_acc: 0.0055\n",
      "Epoch [11], train_loss: 5.3682, val_loss: 5.3655, val_acc: 0.0049\n",
      "Epoch [12], train_loss: 5.3683, val_loss: 5.3822, val_acc: 0.0044\n",
      "Epoch [13], train_loss: 5.3700, val_loss: 5.3583, val_acc: 0.0038\n",
      "Epoch [14], train_loss: 5.3689, val_loss: 5.3721, val_acc: 0.0046\n",
      "Epoch [15], train_loss: 5.3695, val_loss: 5.3805, val_acc: 0.0045\n",
      "Epoch [16], train_loss: 5.3685, val_loss: 5.3648, val_acc: 0.0042\n",
      "Epoch [17], train_loss: 5.3688, val_loss: 5.3763, val_acc: 0.0048\n",
      "Epoch [18], train_loss: 5.3701, val_loss: 5.3690, val_acc: 0.0054\n",
      "Epoch [19], train_loss: 5.3697, val_loss: 5.3641, val_acc: 0.0045\n",
      "Epoch [20], train_loss: 5.3692, val_loss: 5.3832, val_acc: 0.0053\n",
      "Epoch [21], train_loss: 5.3696, val_loss: 5.3643, val_acc: 0.0042\n",
      "Epoch [22], train_loss: 5.3693, val_loss: 5.3773, val_acc: 0.0052\n",
      "Epoch [23], train_loss: 5.3689, val_loss: 5.3769, val_acc: 0.0043\n",
      "Epoch [24], train_loss: 5.3685, val_loss: 5.3647, val_acc: 0.0069\n",
      "Epoch [25], train_loss: 5.3694, val_loss: 5.3646, val_acc: 0.0050\n",
      "Epoch [26], train_loss: 5.3678, val_loss: 5.3637, val_acc: 0.0052\n",
      "Epoch [27], train_loss: 5.3693, val_loss: 5.3694, val_acc: 0.0046\n",
      "Epoch [28], train_loss: 5.3683, val_loss: 5.3683, val_acc: 0.0050\n",
      "Epoch [29], train_loss: 5.3689, val_loss: 5.3712, val_acc: 0.0051\n",
      "Epoch [30], train_loss: 5.3695, val_loss: 5.3643, val_acc: 0.0055\n",
      "Epoch [31], train_loss: 5.3685, val_loss: 5.3717, val_acc: 0.0047\n",
      "Epoch [32], train_loss: 5.3681, val_loss: 5.3591, val_acc: 0.0044\n",
      "Epoch [33], train_loss: 5.3683, val_loss: 5.3827, val_acc: 0.0049\n",
      "Epoch [34], train_loss: 5.3692, val_loss: 5.3577, val_acc: 0.0051\n",
      "Epoch [35], train_loss: 5.3686, val_loss: 5.3879, val_acc: 0.0037\n",
      "Epoch [36], train_loss: 5.3694, val_loss: 5.3725, val_acc: 0.0046\n",
      "Epoch [37], train_loss: 5.3698, val_loss: 5.3595, val_acc: 0.0056\n",
      "Epoch [38], train_loss: 5.3698, val_loss: 5.3640, val_acc: 0.0056\n",
      "Epoch [39], train_loss: 5.3686, val_loss: 5.3663, val_acc: 0.0051\n",
      "Epoch [40], train_loss: 5.3704, val_loss: 5.3678, val_acc: 0.0050\n",
      "Epoch [41], train_loss: 5.3685, val_loss: 5.3552, val_acc: 0.0062\n",
      "Epoch [42], train_loss: 5.3699, val_loss: 5.3625, val_acc: 0.0056\n",
      "Epoch [43], train_loss: 5.3695, val_loss: 5.3656, val_acc: 0.0059\n",
      "Epoch [44], train_loss: 5.3694, val_loss: 5.3770, val_acc: 0.0045\n",
      "Epoch [45], train_loss: 5.3693, val_loss: 5.3632, val_acc: 0.0049\n",
      "Epoch [46], train_loss: 5.3673, val_loss: 5.3777, val_acc: 0.0041\n",
      "Epoch [47], train_loss: 5.3695, val_loss: 5.3835, val_acc: 0.0046\n",
      "Epoch [48], train_loss: 5.3699, val_loss: 5.3583, val_acc: 0.0065\n",
      "Epoch [49], train_loss: 5.3695, val_loss: 5.3628, val_acc: 0.0047\n",
      "Epoch [50], train_loss: 5.3687, val_loss: 5.3674, val_acc: 0.0055\n",
      "Epoch [51], train_loss: 5.3696, val_loss: 5.3589, val_acc: 0.0050\n",
      "Epoch [52], train_loss: 5.3687, val_loss: 5.3754, val_acc: 0.0054\n",
      "Epoch [53], train_loss: 5.3687, val_loss: 5.3661, val_acc: 0.0049\n",
      "Epoch [54], train_loss: 5.3691, val_loss: 5.3600, val_acc: 0.0038\n",
      "Epoch [55], train_loss: 5.3677, val_loss: 5.3668, val_acc: 0.0042\n",
      "Epoch [56], train_loss: 5.3689, val_loss: 5.3614, val_acc: 0.0059\n",
      "Epoch [57], train_loss: 5.3683, val_loss: 5.3722, val_acc: 0.0055\n",
      "Epoch [58], train_loss: 5.3692, val_loss: 5.3661, val_acc: 0.0050\n",
      "Epoch [59], train_loss: 5.3682, val_loss: 5.3692, val_acc: 0.0040\n",
      "Epoch [60], train_loss: 5.3681, val_loss: 5.3794, val_acc: 0.0052\n",
      "Epoch [61], train_loss: 5.3695, val_loss: 5.3593, val_acc: 0.0050\n",
      "Epoch [62], train_loss: 5.3682, val_loss: 5.3604, val_acc: 0.0051\n",
      "Epoch [63], train_loss: 5.3686, val_loss: 5.3747, val_acc: 0.0053\n",
      "Epoch [64], train_loss: 5.3682, val_loss: 5.3665, val_acc: 0.0047\n",
      "Epoch [65], train_loss: 5.3685, val_loss: 5.3882, val_acc: 0.0050\n",
      "Epoch [66], train_loss: 5.3698, val_loss: 5.3801, val_acc: 0.0058\n",
      "Epoch [67], train_loss: 5.3693, val_loss: 5.3699, val_acc: 0.0057\n",
      "Epoch [68], train_loss: 5.3693, val_loss: 5.3666, val_acc: 0.0049\n",
      "Epoch [69], train_loss: 5.3685, val_loss: 5.3835, val_acc: 0.0048\n",
      "Epoch [70], train_loss: 5.3695, val_loss: 5.3587, val_acc: 0.0049\n",
      "Epoch [71], train_loss: 5.3683, val_loss: 5.3814, val_acc: 0.0043\n",
      "Epoch [72], train_loss: 5.3687, val_loss: 5.3684, val_acc: 0.0051\n",
      "Epoch [73], train_loss: 5.3694, val_loss: 5.3603, val_acc: 0.0057\n",
      "Epoch [74], train_loss: 5.3683, val_loss: 5.3916, val_acc: 0.0042\n",
      "Epoch [75], train_loss: 5.3693, val_loss: 5.3881, val_acc: 0.0047\n",
      "Epoch [76], train_loss: 5.3685, val_loss: 5.3765, val_acc: 0.0056\n",
      "Epoch [77], train_loss: 5.3692, val_loss: 5.3633, val_acc: 0.0049\n",
      "Epoch [78], train_loss: 5.3668, val_loss: 5.3597, val_acc: 0.0050\n",
      "Epoch [79], train_loss: 5.3682, val_loss: 5.3726, val_acc: 0.0046\n",
      "Epoch [80], train_loss: 5.3702, val_loss: 5.3731, val_acc: 0.0053\n",
      "Epoch [81], train_loss: 5.3680, val_loss: 5.3685, val_acc: 0.0050\n",
      "Epoch [82], train_loss: 5.3688, val_loss: 5.3730, val_acc: 0.0053\n",
      "Epoch [83], train_loss: 5.3694, val_loss: 5.3624, val_acc: 0.0053\n",
      "Epoch [84], train_loss: 5.3692, val_loss: 5.3699, val_acc: 0.0050\n",
      "Epoch [85], train_loss: 5.3693, val_loss: 5.3732, val_acc: 0.0045\n",
      "Epoch [86], train_loss: 5.3700, val_loss: 5.3554, val_acc: 0.0045\n",
      "Epoch [87], train_loss: 5.3687, val_loss: 5.3776, val_acc: 0.0050\n",
      "Epoch [88], train_loss: 5.3692, val_loss: 5.3647, val_acc: 0.0053\n",
      "Epoch [89], train_loss: 5.3676, val_loss: 5.3591, val_acc: 0.0054\n",
      "Epoch [90], train_loss: 5.3665, val_loss: 5.3771, val_acc: 0.0051\n",
      "Epoch [91], train_loss: 5.3698, val_loss: 5.3691, val_acc: 0.0044\n",
      "Epoch [92], train_loss: 5.3686, val_loss: 5.3670, val_acc: 0.0055\n",
      "Epoch [93], train_loss: 5.3689, val_loss: 5.3700, val_acc: 0.0066\n",
      "Epoch [94], train_loss: 5.3689, val_loss: 5.3773, val_acc: 0.0046\n",
      "Epoch [95], train_loss: 5.3689, val_loss: 5.3710, val_acc: 0.0049\n",
      "Epoch [96], train_loss: 5.3686, val_loss: 5.3765, val_acc: 0.0044\n",
      "Epoch [97], train_loss: 5.3698, val_loss: 5.3624, val_acc: 0.0057\n"
     ]
    }
   ],
   "source": [
    "history = fit(num_epochs, lr, model, train_dl, val_dl, opt_func)"
   ]
  },
  {
   "cell_type": "code",
   "execution_count": null,
   "id": "7816abd7",
   "metadata": {},
   "outputs": [],
   "source": [
    "def plot_accuracies(history):\n",
    "    accuracies = [x['val_acc'] for x in history]\n",
    "    plt.plot(accuracies, '-x')\n",
    "    plt.xlabel('epoch')\n",
    "    plt.ylabel('accuracy')\n",
    "    plt.title('Accuracy vs. No. of epochs');\n",
    "\n",
    "\n",
    "plot_accuracies(history)\n",
    "\n"
   ]
  },
  {
   "cell_type": "code",
   "execution_count": null,
   "id": "21c1e0f4",
   "metadata": {},
   "outputs": [],
   "source": [
    "def plot_losses(history):\n",
    "    train_losses = [x.get('train_loss') for x in history]\n",
    "    val_losses = [x['val_loss'] for x in history]\n",
    "    plt.plot(train_losses, '-bx')\n",
    "    plt.plot(val_losses, '-rx')\n",
    "    plt.xlabel('epoch')\n",
    "    plt.ylabel('loss')\n",
    "    plt.legend(['Training', 'Validation'])\n",
    "    plt.title('Loss vs. No. of epochs')\n",
    "    \n",
    "plot_losses(history)\n"
   ]
  },
  {
   "cell_type": "markdown",
   "id": "d1ef7378",
   "metadata": {},
   "source": [
    "# Testing with indiv images"
   ]
  },
  {
   "cell_type": "code",
   "execution_count": null,
   "id": "3ad3b2d0",
   "metadata": {},
   "outputs": [],
   "source": [
    "test_dataset = ImageFolder(data_dir_path+'/test', transform=ToTensor())"
   ]
  },
  {
   "cell_type": "code",
   "execution_count": null,
   "id": "0f5e16ef",
   "metadata": {},
   "outputs": [],
   "source": [
    "def predict_image(img, model):\n",
    "    # Convert to a batch of 1\n",
    "    xb = to_device(img.unsqueeze(0), device)\n",
    "    # Get predictions from model\n",
    "    yb = model(xb)\n",
    "    # Pick index with highest probability\n",
    "    _, preds  = torch.max(yb, dim=1)\n",
    "    # Retrieve the class label\n",
    "    return train_dataset.classes[preds[0].item()]\n"
   ]
  },
  {
   "cell_type": "code",
   "execution_count": null,
   "id": "13df0d9c",
   "metadata": {},
   "outputs": [],
   "source": [
    "img, label = test_dataset[0]\n",
    "print(label)\n",
    "plt.imshow(img.permute(1, 2, 0))\n",
    "print('Label:', train_dataset.classes[label], ', Predicted:', predict_image(img, model))"
   ]
  },
  {
   "cell_type": "code",
   "execution_count": null,
   "id": "9be2e8f5",
   "metadata": {},
   "outputs": [],
   "source": [
    "img, label = test_dataset[110]\n",
    "plt.imshow(img.permute(1, 2, 0))\n",
    "print('Label:', train_dataset.classes[label], ', Predicted:', predict_image(img, model))"
   ]
  },
  {
   "cell_type": "code",
   "execution_count": null,
   "id": "8a6ec1a1",
   "metadata": {},
   "outputs": [],
   "source": [
    "img, label = test_dataset[5300]\n",
    "plt.imshow(img.permute(1, 2, 0))\n",
    "print('Label:', train_dataset.classes[label], ', Predicted:', predict_image(img, model))"
   ]
  },
  {
   "cell_type": "code",
   "execution_count": null,
   "id": "b8ab0ad2",
   "metadata": {},
   "outputs": [],
   "source": [
    "test_loader = DeviceDataLoader(DataLoader(test_dataset, batch_size*2), device)\n",
    "result = evaluate(model, test_loader)\n",
    "result"
   ]
  },
  {
   "cell_type": "code",
   "execution_count": null,
   "id": "6552fe41",
   "metadata": {},
   "outputs": [],
   "source": []
  }
 ],
 "metadata": {
  "kernelspec": {
   "display_name": "Python 3 (ipykernel)",
   "language": "python",
   "name": "python3"
  },
  "language_info": {
   "codemirror_mode": {
    "name": "ipython",
    "version": 3
   },
   "file_extension": ".py",
   "mimetype": "text/x-python",
   "name": "python",
   "nbconvert_exporter": "python",
   "pygments_lexer": "ipython3",
   "version": "3.7.10"
  }
 },
 "nbformat": 4,
 "nbformat_minor": 5
}
